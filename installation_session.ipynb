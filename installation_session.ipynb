{
 "cells": [
  {
   "cell_type": "code",
   "execution_count": 1,
   "metadata": {},
   "outputs": [],
   "source": [
    "import pyfiglet\n"
   ]
  },
  {
   "cell_type": "code",
   "execution_count": 5,
   "metadata": {},
   "outputs": [
    {
     "name": "stdout",
     "output_type": "stream",
     "text": [
      "                                                                  \n",
      "                                                                  \n",
      "                                                                  \n",
      "                 ___     //  ___      ___      _   __      ___    \n",
      "  //  / /  / / //___) ) // //   ) ) //   ) ) // ) )  ) ) //___) ) \n",
      " //  / /  / / //       // //       //   / / // / /  / / //        \n",
      "((__( (__/ / ((____   // ((____   ((___/ / // / /  / / ((____     \n",
      "\n"
     ]
    }
   ],
   "source": [
    "greet = pyfiglet.figlet_format(\"welcome\",font = '5lineoblique')\n",
    "print(greet)"
   ]
  },
  {
   "cell_type": "code",
   "execution_count": null,
   "metadata": {},
   "outputs": [],
   "source": []
  }
 ],
 "metadata": {
  "kernelspec": {
   "display_name": "Python 3",
   "language": "python",
   "name": "python3"
  },
  "language_info": {
   "codemirror_mode": {
    "name": "ipython",
    "version": 3
   },
   "file_extension": ".py",
   "mimetype": "text/x-python",
   "name": "python",
   "nbconvert_exporter": "python",
   "pygments_lexer": "ipython3",
   "version": "3.8.3"
  }
 },
 "nbformat": 4,
 "nbformat_minor": 4
}
